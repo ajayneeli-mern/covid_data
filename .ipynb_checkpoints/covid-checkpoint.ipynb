{
 "cells": [
  {
   "cell_type": "markdown",
   "id": "cac119e9",
   "metadata": {},
   "source": [
    "### imports"
   ]
  },
  {
   "cell_type": "code",
   "execution_count": 1,
   "id": "0851e869",
   "metadata": {},
   "outputs": [
    {
     "ename": "ModuleNotFoundError",
     "evalue": "No module named 'matplotlib'",
     "output_type": "error",
     "traceback": [
      "\u001b[1;31m---------------------------------------------------------------------------\u001b[0m",
      "\u001b[1;31mModuleNotFoundError\u001b[0m                       Traceback (most recent call last)",
      "Cell \u001b[1;32mIn[1], line 3\u001b[0m\n\u001b[0;32m      1\u001b[0m \u001b[38;5;28;01mimport\u001b[39;00m \u001b[38;5;21;01mnumpy\u001b[39;00m \u001b[38;5;28;01mas\u001b[39;00m \u001b[38;5;21;01mnp\u001b[39;00m \u001b[38;5;66;03m# linear algebra\u001b[39;00m\n\u001b[0;32m      2\u001b[0m \u001b[38;5;28;01mimport\u001b[39;00m \u001b[38;5;21;01mpandas\u001b[39;00m \u001b[38;5;28;01mas\u001b[39;00m \u001b[38;5;21;01mpd\u001b[39;00m \u001b[38;5;66;03m# data processing, CSV file I/O (e.g. pd.read_csv)\u001b[39;00m\n\u001b[1;32m----> 3\u001b[0m \u001b[38;5;28;01mimport\u001b[39;00m \u001b[38;5;21;01mmatplotlib\u001b[39;00m\u001b[38;5;21;01m.\u001b[39;00m\u001b[38;5;21;01mpyplot\u001b[39;00m \u001b[38;5;28;01mas\u001b[39;00m \u001b[38;5;21;01mplt\u001b[39;00m\n\u001b[0;32m      4\u001b[0m \u001b[38;5;28;01mimport\u001b[39;00m \u001b[38;5;21;01mplotly\u001b[39;00m\u001b[38;5;21;01m.\u001b[39;00m\u001b[38;5;21;01mexpress\u001b[39;00m \u001b[38;5;28;01mas\u001b[39;00m \u001b[38;5;21;01mpx\u001b[39;00m\n\u001b[0;32m      5\u001b[0m \u001b[38;5;28;01mimport\u001b[39;00m \u001b[38;5;21;01mplotly\u001b[39;00m\u001b[38;5;21;01m.\u001b[39;00m\u001b[38;5;21;01mgraph_objects\u001b[39;00m \u001b[38;5;28;01mas\u001b[39;00m \u001b[38;5;21;01mgo\u001b[39;00m\n",
      "\u001b[1;31mModuleNotFoundError\u001b[0m: No module named 'matplotlib'"
     ]
    }
   ],
   "source": [
    "import numpy as np # linear algebra\n",
    "import pandas as pd # data processing, CSV file I/O (e.g. pd.read_csv)\n",
    "import matplotlib.pyplot as plt\n",
    "import plotly.express as px\n",
    "import plotly.graph_objects as go\n",
    "from wordcloud import WordCloud\n",
    "import os"
   ]
  },
  {
   "cell_type": "markdown",
   "id": "134159a7",
   "metadata": {},
   "source": [
    "### Read csv"
   ]
  },
  {
   "cell_type": "code",
   "execution_count": 2,
   "id": "835362c4",
   "metadata": {},
   "outputs": [
    {
     "data": {
      "text/html": [
       "<div>\n",
       "<style scoped>\n",
       "    .dataframe tbody tr th:only-of-type {\n",
       "        vertical-align: middle;\n",
       "    }\n",
       "\n",
       "    .dataframe tbody tr th {\n",
       "        vertical-align: top;\n",
       "    }\n",
       "\n",
       "    .dataframe thead th {\n",
       "        text-align: right;\n",
       "    }\n",
       "</style>\n",
       "<table border=\"1\" class=\"dataframe\">\n",
       "  <thead>\n",
       "    <tr style=\"text-align: right;\">\n",
       "      <th></th>\n",
       "      <th>State/UTs</th>\n",
       "      <th>Total Cases</th>\n",
       "      <th>Active</th>\n",
       "      <th>Discharged</th>\n",
       "      <th>Deaths</th>\n",
       "      <th>Active Ratio</th>\n",
       "      <th>Discharge Ratio</th>\n",
       "      <th>Death Ratio</th>\n",
       "      <th>Population</th>\n",
       "    </tr>\n",
       "  </thead>\n",
       "  <tbody>\n",
       "    <tr>\n",
       "      <th>0</th>\n",
       "      <td>Andaman and Nicobar</td>\n",
       "      <td>10747</td>\n",
       "      <td>0</td>\n",
       "      <td>10618</td>\n",
       "      <td>129</td>\n",
       "      <td>0.0</td>\n",
       "      <td>98.80</td>\n",
       "      <td>1.20</td>\n",
       "      <td>100896618</td>\n",
       "    </tr>\n",
       "    <tr>\n",
       "      <th>1</th>\n",
       "      <td>Andhra Pradesh</td>\n",
       "      <td>2339078</td>\n",
       "      <td>7</td>\n",
       "      <td>2324338</td>\n",
       "      <td>14733</td>\n",
       "      <td>0.0</td>\n",
       "      <td>99.37</td>\n",
       "      <td>0.63</td>\n",
       "      <td>128500364</td>\n",
       "    </tr>\n",
       "    <tr>\n",
       "      <th>2</th>\n",
       "      <td>Arunachal Pradesh</td>\n",
       "      <td>66891</td>\n",
       "      <td>0</td>\n",
       "      <td>66595</td>\n",
       "      <td>296</td>\n",
       "      <td>0.0</td>\n",
       "      <td>99.56</td>\n",
       "      <td>0.44</td>\n",
       "      <td>658019</td>\n",
       "    </tr>\n",
       "    <tr>\n",
       "      <th>3</th>\n",
       "      <td>Assam</td>\n",
       "      <td>746100</td>\n",
       "      <td>0</td>\n",
       "      <td>738065</td>\n",
       "      <td>8035</td>\n",
       "      <td>0.0</td>\n",
       "      <td>98.92</td>\n",
       "      <td>1.08</td>\n",
       "      <td>290492</td>\n",
       "    </tr>\n",
       "    <tr>\n",
       "      <th>4</th>\n",
       "      <td>Bihar</td>\n",
       "      <td>851404</td>\n",
       "      <td>1</td>\n",
       "      <td>839100</td>\n",
       "      <td>12303</td>\n",
       "      <td>0.0</td>\n",
       "      <td>98.55</td>\n",
       "      <td>1.45</td>\n",
       "      <td>40100376</td>\n",
       "    </tr>\n",
       "  </tbody>\n",
       "</table>\n",
       "</div>"
      ],
      "text/plain": [
       "             State/UTs  Total Cases  Active  Discharged  Deaths  Active Ratio  \\\n",
       "0  Andaman and Nicobar        10747       0       10618     129           0.0   \n",
       "1       Andhra Pradesh      2339078       7     2324338   14733           0.0   \n",
       "2    Arunachal Pradesh        66891       0       66595     296           0.0   \n",
       "3                Assam       746100       0      738065    8035           0.0   \n",
       "4                Bihar       851404       1      839100   12303           0.0   \n",
       "\n",
       "   Discharge Ratio  Death Ratio  Population  \n",
       "0            98.80         1.20   100896618  \n",
       "1            99.37         0.63   128500364  \n",
       "2            99.56         0.44      658019  \n",
       "3            98.92         1.08      290492  \n",
       "4            98.55         1.45    40100376  "
      ]
     },
     "execution_count": 2,
     "metadata": {},
     "output_type": "execute_result"
    }
   ],
   "source": [
    "df = pd.read_csv(\"Latest Covid-19 India Status.csv\")\n",
    "df.head()"
   ]
  },
  {
   "cell_type": "code",
   "execution_count": null,
   "id": "9cb5546a",
   "metadata": {},
   "outputs": [],
   "source": [
    "df.shape\n",
    "df.columns"
   ]
  },
  {
   "cell_type": "code",
   "execution_count": null,
   "id": "7b4d26fa",
   "metadata": {},
   "outputs": [],
   "source": [
    "df.info()"
   ]
  },
  {
   "cell_type": "code",
   "execution_count": null,
   "id": "d0470aa3",
   "metadata": {},
   "outputs": [],
   "source": [
    "df.describe()"
   ]
  },
  {
   "cell_type": "code",
   "execution_count": 3,
   "id": "c64ac504",
   "metadata": {},
   "outputs": [
    {
     "data": {
      "text/plain": [
       "State/UTs          0\n",
       "Total Cases        0\n",
       "Active             0\n",
       "Discharged         0\n",
       "Deaths             0\n",
       "Active Ratio       0\n",
       "Discharge Ratio    0\n",
       "Death Ratio        0\n",
       "Population         0\n",
       "dtype: int64"
      ]
     },
     "execution_count": 3,
     "metadata": {},
     "output_type": "execute_result"
    }
   ],
   "source": [
    "#df.isnull() -> shws booleen values \n",
    "#df.isnull().sum() -> keep add count of null of that row\n",
    "df.isnull().sum()"
   ]
  },
  {
   "cell_type": "code",
   "execution_count": 4,
   "id": "97cf4c63",
   "metadata": {},
   "outputs": [
    {
     "data": {
      "text/plain": [
       "36"
      ]
     },
     "execution_count": 4,
     "metadata": {},
     "output_type": "execute_result"
    }
   ],
   "source": [
    "df['State/UTs'].unique()#states\n",
    "\n",
    "#df['State/UTs'].nunique()#count"
   ]
  },
  {
   "cell_type": "code",
   "execution_count": null,
   "id": "04871ec3",
   "metadata": {},
   "outputs": [],
   "source": [
    "states=df[\"State/UTs\"].tolist()\n"
   ]
  },
  {
   "cell_type": "markdown",
   "id": "f2507c67",
   "metadata": {},
   "source": [
    "### min & max number of deaths"
   ]
  },
  {
   "cell_type": "code",
   "execution_count": null,
   "id": "bd5adad5",
   "metadata": {},
   "outputs": [],
   "source": [
    "df['Deaths'].max()\n",
    "\n",
    "df['Deaths'].min()\n",
    "\n",
    "df[df['Deaths']==148419]"
   ]
  },
  {
   "cell_type": "markdown",
   "id": "4f8789a4",
   "metadata": {},
   "source": [
    "### state with hightest death & lowest deaths"
   ]
  },
  {
   "cell_type": "code",
   "execution_count": null,
   "id": "0b928f24",
   "metadata": {},
   "outputs": [],
   "source": [
    "df[['State/UTs','Deaths']].sort_values(by=\"Deaths\",ascending=False)[:5]\n"
   ]
  },
  {
   "cell_type": "code",
   "execution_count": null,
   "id": "5e1a6856",
   "metadata": {},
   "outputs": [],
   "source": [
    "df.sort_values(by=\"Deaths\",ascending=False)[:5]['Population']"
   ]
  },
  {
   "cell_type": "code",
   "execution_count": null,
   "id": "f882ce0b",
   "metadata": {},
   "outputs": [],
   "source": [
    "df.sort_values(by=\"Deaths\",ascending=False)[:5]"
   ]
  },
  {
   "cell_type": "markdown",
   "id": "98ca3230",
   "metadata": {},
   "source": [
    "### plot states vs no of death"
   ]
  },
  {
   "cell_type": "code",
   "execution_count": null,
   "id": "a05fe394",
   "metadata": {},
   "outputs": [],
   "source": [
    "x=df[['State/UTs','Deaths']].sort_values(by=\"Deaths\",ascending=False)['State/UTs'][:10].values\n",
    "y=df[['State/UTs','Deaths']].sort_values(by=\"Deaths\",ascending=False)['Deaths'][:10].values\n",
    "\n",
    "df1=pd.DataFrame({'State/UTs':x,'Deaths':y})\n",
    "fig=px.bar(df1,\n",
    "          x='State/UTs',\n",
    "          y='Deaths',\n",
    "          color='State/UTs',\n",
    "          title='states vs No.of deaths')\n",
    "\n",
    "fig.show()\n"
   ]
  },
  {
   "cell_type": "code",
   "execution_count": null,
   "id": "cd45d2b2",
   "metadata": {},
   "outputs": [],
   "source": [
    "df['Active']#.tolist()]\n",
    "df['Active'].values#.tolist()]"
   ]
  },
  {
   "cell_type": "code",
   "execution_count": null,
   "id": "d47156ae",
   "metadata": {},
   "outputs": [],
   "source": [
    "df[['Active']].values"
   ]
  },
  {
   "cell_type": "markdown",
   "id": "e7662901",
   "metadata": {},
   "source": [
    "### TOP 10 STATES WITH HIGHEST NUMBER OF ACTIVE CASES"
   ]
  },
  {
   "cell_type": "code",
   "execution_count": null,
   "id": "968e9893",
   "metadata": {},
   "outputs": [],
   "source": [
    "x=df[['State/UTs','Active']].sort_values(by = 'Active',ascending=False)[:10]['State/UTs'].values\n",
    "\n",
    "y=df[['State/UTs','Active']].sort_values(by = 'Active',ascending=False)[:10]['Active'].values\n",
    "\n",
    "df1 = pd.DataFrame({'State/UTs':x,\n",
    "                  'Active Cases':y })\n",
    "fig = px.pie(df1, \n",
    "             names='State/UTs', \n",
    "             values='Active Cases',\n",
    "             color='State/UTs',\n",
    "             title='State/UTs Vs No. of Active Cases',\n",
    "             hole=0.3,\n",
    "             height = 800,\n",
    "             width = 800\n",
    "            )\n",
    "fig.update_traces(textposition='outside', textinfo='value+label',\n",
    "            pull=[0,0.1,0.2,0.3,0.4,0.1,0.2,0.1,0.1,0.3] )\n",
    "fig.show()"
   ]
  },
  {
   "cell_type": "code",
   "execution_count": null,
   "id": "46de4465",
   "metadata": {},
   "outputs": [],
   "source": [
    "x = df[['State/UTs','Active']].sort_values(by = 'Active',ascending=False)[:10]['State/UTs'].values\n",
    "y = df[['State/UTs','Active']].sort_values(by = 'Active',ascending=False)[:10]['Active'].values\n",
    "\n",
    "df1 = pd.DataFrame({'State/UTs':x,\n",
    "                  'Active Cases':y })\n",
    "\n",
    "fig = px.scatter(df1, \n",
    "             x='State/UTs', \n",
    "             y='Active Cases',\n",
    "             color='State/UTs',\n",
    "             title='State/UTs Vs No. of Active Cases',\n",
    "                 size='Active Cases'\n",
    "            )\n",
    "fig.show()"
   ]
  },
  {
   "cell_type": "markdown",
   "id": "a7ba4c10",
   "metadata": {},
   "source": [
    "### Top 10 States with Highest Number of Discharged Patients"
   ]
  },
  {
   "cell_type": "code",
   "execution_count": null,
   "id": "cc3f2e6b",
   "metadata": {},
   "outputs": [],
   "source": [
    "x = df[['State/UTs','Discharged']].sort_values(by = 'Discharged',ascending=False)[:10]['State/UTs'].values\n",
    "y = df[['State/UTs','Discharged']].sort_values(by = 'Discharged',ascending=False)[:10]['Discharged'].values\n",
    "\n",
    "df1 = pd.DataFrame({'State/UTs':x,\n",
    "                  'Discharged':y })\n",
    "fig = px.pie(df1, \n",
    "             names='State/UTs', \n",
    "             values='Discharged',\n",
    "             color='State/UTs',\n",
    "             title='State/UTs Vs No. of Discharged',\n",
    "             hole=0.3,\n",
    "             height = 800,\n",
    "             width = 800\n",
    "            )\n",
    "fig.update_traces(textposition='outside', textinfo='value+label',\n",
    "            pull=[0,0.1,0.2,0.3,0.4,0.1,0.2,0.1,0.1,0.3] )\n",
    "fig.show()\n"
   ]
  },
  {
   "cell_type": "markdown",
   "id": "765bd4cc",
   "metadata": {},
   "source": [
    "### **Active Cases is comparatively very less than Total cases or discharged"
   ]
  },
  {
   "cell_type": "code",
   "execution_count": null,
   "id": "296fb260",
   "metadata": {},
   "outputs": [],
   "source": [
    "x = df['State/UTs'].values\n",
    "y1 = df['Total Cases'].values\n",
    "y2 = df['Active'].values\n",
    "\n",
    "\n",
    "fig= go.Figure()\n",
    "\n",
    "fig.add_trace(go.Scatter(x=x, y=y1, name= \"Total\"))\n",
    "fig.add_trace(go.Scatter(x=x, y=y2, name= \"Active\"))\n",
    "\n",
    "fig.show()"
   ]
  },
  {
   "cell_type": "code",
   "execution_count": null,
   "id": "66240bb0",
   "metadata": {},
   "outputs": [],
   "source": [
    "covidI= df\n",
    "x = covidI['State/UTs'].values\n",
    "y1 = covidI[['State/UTs','Total Cases']]['Total Cases'].values\n",
    "y2 = covidI[['State/UTs','Deaths']]['Deaths'].values\n",
    "y3 = covidI[['State/UTs','Discharged']]['Discharged'].values\n",
    "\n",
    "fig= go.Figure()\n",
    "\n",
    "fig.add_trace(go.Bar(x=x, y=y1, name= \"Total\"))\n",
    "fig.add_trace(go.Bar(x=x, y=y2, name= \"Deaths\"))\n",
    "fig.add_trace(go.Bar(x=x, y=y3, name= \"Discharged\"))\n",
    "\n",
    "fig.update_layout(\n",
    "    height = 900,\n",
    "    margin=dict(l=0, r=0, t=0, b=0)\n",
    "    #paper_bgcolor=\"lightgrey\",\n",
    ")\n",
    "fig.show()"
   ]
  },
  {
   "cell_type": "code",
   "execution_count": null,
   "id": "726d1ddb",
   "metadata": {
    "scrolled": true
   },
   "outputs": [],
   "source": [
    "fig = px.line(covidI, x=covidI['State/UTs'].values, y=covidI.columns[3:5], height = 800,width=1000)\n",
    "fig.show()"
   ]
  },
  {
   "cell_type": "code",
   "execution_count": null,
   "id": "44514abe",
   "metadata": {},
   "outputs": [],
   "source": [
    "px.histogram(covidI['Death Ratio'])"
   ]
  },
  {
   "cell_type": "code",
   "execution_count": null,
   "id": "5963f5ad",
   "metadata": {},
   "outputs": [],
   "source": [
    "x= covidI['State/UTs'].values\n",
    "\n",
    "plt.subplots(figsize = (8,8))\n",
    "\n",
    "wordcloud = WordCloud (\n",
    "                    background_color = 'white',\n",
    "                    width = 712,\n",
    "                    height = 384,\n",
    "                    colormap = 'prism'    ).generate(' '.join(x))\n",
    "plt.imshow(wordcloud) # image show\n",
    "plt.axis('off') # to off the axis of x and y\n",
    "plt.savefig('Plotly-World_Cloud.png')\n",
    "plt.show()"
   ]
  },
  {
   "cell_type": "code",
   "execution_count": null,
   "id": "379f493c",
   "metadata": {},
   "outputs": [],
   "source": [
    "# Horizontal Bar graph States versus Death Ratio (using plotly)\n",
    "x = covidI['State/UTs'].values\n",
    "y = covidI['Death Ratio'].values\n",
    "\n",
    "df = pd.DataFrame({'State/UTs':x,\n",
    "                  'Death Ratio':y })\n",
    "\n",
    "fig = px.bar(df, \n",
    "             x='Death Ratio', \n",
    "             y='State/UTs',\n",
    "             color='State/UTs', #color represents State/UTs\n",
    "             title='State/UTs versus Death Ratio',\n",
    "             orientation='h',\n",
    "             height = 1000\n",
    "            )\n",
    "fig.show()"
   ]
  },
  {
   "cell_type": "code",
   "execution_count": null,
   "id": "ff1554fe",
   "metadata": {},
   "outputs": [],
   "source": []
  }
 ],
 "metadata": {
  "kernelspec": {
   "display_name": "Python 3 (ipykernel)",
   "language": "python",
   "name": "python3"
  },
  "language_info": {
   "codemirror_mode": {
    "name": "ipython",
    "version": 3
   },
   "file_extension": ".py",
   "mimetype": "text/x-python",
   "name": "python",
   "nbconvert_exporter": "python",
   "pygments_lexer": "ipython3",
   "version": "3.8.2"
  }
 },
 "nbformat": 4,
 "nbformat_minor": 5
}
