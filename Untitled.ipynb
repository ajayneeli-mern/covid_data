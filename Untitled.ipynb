{
 "cells": [
  {
   "cell_type": "code",
   "execution_count": 4,
   "id": "72abe695",
   "metadata": {},
   "outputs": [
    {
     "name": "stdout",
     "output_type": "stream",
     "text": [
      "+-------+---+\n",
      "|   name|age|\n",
      "+-------+---+\n",
      "|  Alice| 30|\n",
      "|    Bob| 25|\n",
      "|Charlie| 35|\n",
      "+-------+---+\n",
      "\n",
      "root\n",
      " |-- name: string (nullable = true)\n",
      " |-- age: long (nullable = true)\n",
      "\n",
      "+-------+\n",
      "|   name|\n",
      "+-------+\n",
      "|  Alice|\n",
      "|    Bob|\n",
      "|Charlie|\n",
      "+-------+\n",
      "\n",
      "+-------+---+\n",
      "|   name|age|\n",
      "+-------+---+\n",
      "|Charlie| 35|\n",
      "+-------+---+\n",
      "\n",
      "####################\n",
      "      name  age\n",
      "0    Alice   30\n",
      "1      Bob   25\n",
      "2  Charlie   35\n"
     ]
    }
   ],
   "source": [
    "from pyspark.sql import SparkSession\n",
    "import pandas as pd\n",
    "\n",
    "# Initialize SparkSession\n",
    "spark = SparkSession.builder \\\n",
    "    .appName(\"Simple PySpark Example\") \\\n",
    "    .getOrCreate()\n",
    "\n",
    "# Sample data\n",
    "data = [(\"Alice\", 30), (\"Bob\", 25), (\"Charlie\", 35)]\n",
    "columns = [\"name\", \"age\"]\n",
    "\n",
    "# Create Spark DataFrame\n",
    "spark_df = spark.createDataFrame(data, schema=columns)\n",
    "\n",
    "# Show the DataFrame\n",
    "spark_df.show()\n",
    "\n",
    "# Print the schema\n",
    "spark_df.printSchema()\n",
    "\n",
    "# Select specific columns\n",
    "spark_df.select(\"name\").show()\n",
    "\n",
    "# Filter rows\n",
    "spark_df.filter(spark_df.age > 30).show()\n",
    "\n",
    "# Convert to Pandas DataFrame\n",
    "pandas_df = spark_df.toPandas()\n",
    "print(\"####################\")\n",
    "# Display the Pandas DataFrame\n",
    "print(pandas_df)\n",
    "\n",
    "# Stop the SparkSession\n"
   ]
  },
  {
   "cell_type": "code",
   "execution_count": null,
   "id": "89382f9e",
   "metadata": {},
   "outputs": [],
   "source": [
    "print(\"##)"
   ]
  },
  {
   "cell_type": "code",
   "execution_count": 6,
   "id": "88dd0c9e",
   "metadata": {},
   "outputs": [
    {
     "name": "stderr",
     "output_type": "stream",
     "text": [
      "UsageError: Line magic function `%sql` not found.\n"
     ]
    }
   ],
   "source": [
    "%sql select * from users"
   ]
  },
  {
   "cell_type": "code",
   "execution_count": null,
   "id": "ad0b8ac7",
   "metadata": {},
   "outputs": [],
   "source": []
  }
 ],
 "metadata": {
  "kernelspec": {
   "display_name": "Python 3 (ipykernel)",
   "language": "python",
   "name": "python3"
  },
  "language_info": {
   "codemirror_mode": {
    "name": "ipython",
    "version": 3
   },
   "file_extension": ".py",
   "mimetype": "text/x-python",
   "name": "python",
   "nbconvert_exporter": "python",
   "pygments_lexer": "ipython3",
   "version": "3.11.4"
  }
 },
 "nbformat": 4,
 "nbformat_minor": 5
}
